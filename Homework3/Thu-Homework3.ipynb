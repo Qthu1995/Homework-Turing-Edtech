{
 "cells": [
  {
   "cell_type": "code",
   "execution_count": 1,
   "metadata": {},
   "outputs": [
    {
     "name": "stdout",
     "output_type": "stream",
     "text": [
      "Nhap vao do dai canh a: 2\n",
      "Nhap vao do dai canh b: 2\n",
      "Nhap vao do dai canh c: 3\n",
      "Tam giac can!\n"
     ]
    }
   ],
   "source": [
    "# Bai 1: Tam giac can\n",
    "a = float(input('Nhap vao do dai canh a: '))\n",
    "b = float(input('Nhap vao do dai canh b: '))\n",
    "c = float(input('Nhap vao do dai canh c: '))\n",
    "\n",
    "if (a + b > c) and (a + c > b) and (b + c > a):\n",
    "    if (a == b) or (a == c) or (b == c):\n",
    "        print('Tam giac can!')\n",
    "    else:\n",
    "        print('Tam giac khong can.')\n",
    "else:\n",
    "    print('Ba do dai khong phai la do dai cua mot tam giac.')"
   ]
  },
  {
   "cell_type": "code",
   "execution_count": 2,
   "metadata": {},
   "outputs": [
    {
     "name": "stdout",
     "output_type": "stream",
     "text": [
      "Nhap gio: 23\n",
      "Nhap phut: 12\n",
      "Nhap giay: 5\n",
      "23.0h : 12.0m : 5.0s\n"
     ]
    }
   ],
   "source": [
    "# Bai 2: Gio, phut, giay\n",
    "hour = float(input('Nhap gio: '))\n",
    "minut = float(input('Nhap phut: '))\n",
    "sec = float(input('Nhap giay: '))\n",
    "if 0 > hour or hour >= 24:\n",
    "    print('Gio khong hop le.')\n",
    "elif (minut < 0 or minut >= 60):\n",
    "    print('Phut khong hop le.')\n",
    "elif sec < 0 or sec >= 60:\n",
    "    elifint('Giay khong hop le.')\n",
    "else:\n",
    "    print(f'{hour}h : {minut}m : {sec}s')"
   ]
  },
  {
   "cell_type": "code",
   "execution_count": 3,
   "metadata": {},
   "outputs": [
    {
     "name": "stdout",
     "output_type": "stream",
     "text": [
      "Nhap vao so nguyen a: 5\n",
      "Nhap vao so nguyen b: 5\n",
      "Nhap vao so nguyen c: 3\n",
      "553\n"
     ]
    }
   ],
   "source": [
    "# Bai 3: Tim so lon nhat\n",
    "a = int(input('Nhap vao so nguyen a: '))\n",
    "b = int(input('Nhap vao so nguyen b: '))\n",
    "c = int(input('Nhap vao so nguyen c: '))\n",
    "\n",
    "if (0 < a < 10) and (0 < b < 10) and (0 < c < 10):\n",
    "    aMb = a - b\n",
    "    bMc = b - c\n",
    "    cMa = c - a\n",
    "    if (aMb) >= 0:\n",
    "        if (bMc) >= 0:\n",
    "            print(f'{a}{b}{c}')\n",
    "        elif (cMa) >= 0:\n",
    "            print(f'{c}{a}{b}')\n",
    "        else:\n",
    "            print(f'{a}{c}{b}')\n",
    "    elif (cMa <= 0):\n",
    "        print(f'{b}{a}{c}')\n",
    "    elif (bMc <= 0):\n",
    "        print(f'{c}{b}{a}')\n",
    "    else:\n",
    "        print(f'{b}{c}{a}')\n",
    "else:\n",
    "    print('So ban chon khong hop le!')\n",
    "            \n",
    "    "
   ]
  },
  {
   "cell_type": "code",
   "execution_count": 4,
   "metadata": {},
   "outputs": [
    {
     "name": "stdout",
     "output_type": "stream",
     "text": [
      "Nhap vao he so a: 5\n",
      "Nhap vao he so b: 3\n",
      "Nhap vao he so c: 1\n",
      "Phuong trinh vo nghiem!\n"
     ]
    }
   ],
   "source": [
    "# Bai 4: Nghiem cua phuong trinh bac 2\n",
    "import math\n",
    "a = float(input(\"Nhap vao he so a: \"))\n",
    "b = float(input(\"Nhap vao he so b: \"))\n",
    "c = float(input(\"Nhap vao he so c: \"))\n",
    "delta = b**2 - 4*a*c\n",
    "if a == 0:\n",
    "    if b == 0:\n",
    "        if c == 0:\n",
    "            print(\"Phuong trinh co vo so nghiem!\")\n",
    "        else:\n",
    "            print(\"Phuong trinh vo nghiem!\")\n",
    "    else:\n",
    "        nghiem = -c/b\n",
    "        print(f\"Phuong trinh co 1 nghiem la {nghiem}\")\n",
    "else:\n",
    "    if delta < 0:\n",
    "        print('Phuong trinh vo nghiem!')\n",
    "    elif delta == 0:\n",
    "        nghiem = -b/2*a\n",
    "        print(f\"Phuong trinh co mot nghiem duy nhat la: {nghiem}\")\n",
    "    else:\n",
    "        nghiem1 = (-b + math.sqrt(delta))/(2*a)\n",
    "        nghiem2 = (-b - math.sqrt(delta))/(2*a)\n",
    "        print(f\"Phuong trinh co hai nghiem. \\\n",
    "              \\n Nghiem thu nhat la {nghiem1} \\\n",
    "                 \\n Nghiem thu hai la {nghiem2}\")"
   ]
  },
  {
   "cell_type": "code",
   "execution_count": 5,
   "metadata": {},
   "outputs": [
    {
     "name": "stdout",
     "output_type": "stream",
     "text": [
      "Nhap so km ban da di: 1\n",
      "Gia cuoc cua ban la 15000.0\n"
     ]
    }
   ],
   "source": [
    "# Bai 5: Tinh cuoc Taxi\n",
    "km = float(input(\"Nhap so km ban da di: \"))\n",
    "op = 15000\n",
    "if km < 0:\n",
    "    print('Quang duong phai la so duong!')\n",
    "elif km < 1:\n",
    "    print(f\"Gia cuoc cua ban la {op} VND\")\n",
    "elif km < 21:\n",
    "    price = op + (km - 1) * 12000\n",
    "    print(f\"Gia cuoc cua ban la {price} VND\")\n",
    "else:\n",
    "    price = op + 20 * 12000 + (km - 1 - 20) * 10000\n",
    "    print(f\"Gia cuoc cua ban la {price} VND\")"
   ]
  }
 ],
 "metadata": {
  "kernelspec": {
   "display_name": "Python 3",
   "language": "python",
   "name": "python3"
  },
  "language_info": {
   "codemirror_mode": {
    "name": "ipython",
    "version": 3
   },
   "file_extension": ".py",
   "mimetype": "text/x-python",
   "name": "python",
   "nbconvert_exporter": "python",
   "pygments_lexer": "ipython3",
   "version": "3.8.3"
  }
 },
 "nbformat": 4,
 "nbformat_minor": 4
}
