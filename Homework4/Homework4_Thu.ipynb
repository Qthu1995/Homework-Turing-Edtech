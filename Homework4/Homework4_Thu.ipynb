{
 "cells": [
  {
   "cell_type": "code",
   "execution_count": 1,
   "metadata": {},
   "outputs": [
    {
     "name": "stdout",
     "output_type": "stream",
     "text": [
      "Nhap vao so muon kiem tra: 23\n",
      "So 23 la so nguyen to.\n"
     ]
    }
   ],
   "source": [
    "# 1.Kiem tra so nguyen to\n",
    "\n",
    "n = int(input('Nhap vao so muon kiem tra: '))\n",
    "if n < 2:\n",
    "    print(f'So {n} khong phai so nguyen to!')\n",
    "else:\n",
    "    for i in range(2, n):\n",
    "        if n % i == 0:\n",
    "            check = 1 # check = 1 means n la so nguyen to\n",
    "            print(f'So {n} khong phai so nguyen to.')\n",
    "            break\n",
    "        else:\n",
    "            check = 0\n",
    "if check == 0:\n",
    "    print(f'So {n} la so nguyen to.')"
   ]
  },
  {
   "cell_type": "code",
   "execution_count": 2,
   "metadata": {
    "scrolled": true
   },
   "outputs": [
    {
     "name": "stdout",
     "output_type": "stream",
     "text": [
      "Nhap do dai canh m: 5\n",
      "Nhap do dai canh n: 5\n",
      "\n",
      "\n",
      "*****\n",
      "*****\n",
      "*****\n",
      "*****\n",
      "*****\n"
     ]
    }
   ],
   "source": [
    "# 2.1 Hinh chu nhat dac size m x n\n",
    "m = int(input('Nhap do dai canh m: '))\n",
    "n = int(input('Nhap do dai canh n: '))\n",
    "print('\\n')\n",
    "for i in range(1, m+1):\n",
    "    print('*'*n)"
   ]
  },
  {
   "cell_type": "code",
   "execution_count": 3,
   "metadata": {},
   "outputs": [
    {
     "name": "stdout",
     "output_type": "stream",
     "text": [
      "Nhap do dai hinh vuong: 5\n",
      "\n",
      "\n",
      "*     \n",
      " *    \n",
      "  *   \n",
      "   *  \n",
      "    * \n"
     ]
    }
   ],
   "source": [
    "# 2.2 Duong cheo tu trai sang phai cua hinh vuong n x n:\n",
    "n = int(input('Nhap do dai hinh vuong: '))\n",
    "print('\\n')\n",
    "for i in range(0, n):\n",
    "    print(' ' * i + '*' + ' ' * (n-i))"
   ]
  },
  {
   "cell_type": "code",
   "execution_count": 4,
   "metadata": {},
   "outputs": [
    {
     "name": "stdout",
     "output_type": "stream",
     "text": [
      "Nhap do dai hinh vuong: 5\n",
      "\n",
      "\n",
      "     *\n",
      "    * \n",
      "   *  \n",
      "  *   \n",
      " *    \n"
     ]
    }
   ],
   "source": [
    "# 2.3 Duong cheo tu phai sang trai cua hinh vuong n x n:\n",
    "n = int(input('Nhap do dai hinh vuong: '))\n",
    "print('\\n')\n",
    "for i in range(0, n):\n",
    "    print(' ' * (n-i) + '*' + ' ' * i)"
   ]
  },
  {
   "cell_type": "code",
   "execution_count": 5,
   "metadata": {},
   "outputs": [
    {
     "name": "stdout",
     "output_type": "stream",
     "text": [
      "Nhap do dai canh tam giac vuong can: 5\n",
      "\n",
      "\n",
      "*\n",
      "**\n",
      "***\n",
      "****\n",
      "*****\n"
     ]
    }
   ],
   "source": [
    "# 2.4 Tam giac vuong can size n:\n",
    "n = int(input('Nhap do dai canh tam giac vuong can: '))\n",
    "print('\\n')\n",
    "for i in range(1, n+1):\n",
    "    print('*' * i)"
   ]
  },
  {
   "cell_type": "code",
   "execution_count": 6,
   "metadata": {},
   "outputs": [
    {
     "name": "stdout",
     "output_type": "stream",
     "text": [
      "Nhap n: 7\n",
      "Tong T la 1.7500000000000002.\n"
     ]
    }
   ],
   "source": [
    "# 3. Tinh tong T\n",
    "n = int(input('Nhap n: '))\n",
    "T = 0 #Tong T can tinh\n",
    "s = 0 #TOng tu 1 - n\n",
    "\n",
    "for i in range(1, n+1):\n",
    "    s += i\n",
    "    T = T + 1/s\n",
    "\n",
    "print(f'Tong T la {T}.')\n"
   ]
  },
  {
   "cell_type": "code",
   "execution_count": 7,
   "metadata": {},
   "outputs": [
    {
     "name": "stdout",
     "output_type": "stream",
     "text": [
      "Nhap so a: 15\n",
      "Nhap so b: 50\n",
      "So cac so nguyen to trong doan 15, 50 la: 17 19 23 29 31 37 41 43 47 \n"
     ]
    }
   ],
   "source": [
    "# 4. Liet ke cac so nguyen to trong khoang [a, b]\n",
    "a = int(input('Nhap so a: '))\n",
    "b = int(input('Nhap so b: '))\n",
    "result = ''\n",
    "for num in range(a, b+1):\n",
    "    if num == 2:\n",
    "        result += str(num) + ' ' \n",
    "    if num > 2:\n",
    "        for i in range(2, num):\n",
    "            if num % i == 0:\n",
    "                check = 1 # check = 1 means n la so nguyen to\n",
    "                break\n",
    "            else:\n",
    "                check = 0\n",
    "        if check == 0:\n",
    "            result += str(num) + ' '\n",
    "print(f'So cac so nguyen to trong doan {a}, {b} la: {result}')\n",
    "    "
   ]
  }
 ],
 "metadata": {
  "kernelspec": {
   "display_name": "Python 3",
   "language": "python",
   "name": "python3"
  },
  "language_info": {
   "codemirror_mode": {
    "name": "ipython",
    "version": 3
   },
   "file_extension": ".py",
   "mimetype": "text/x-python",
   "name": "python",
   "nbconvert_exporter": "python",
   "pygments_lexer": "ipython3",
   "version": "3.8.3"
  }
 },
 "nbformat": 4,
 "nbformat_minor": 4
}
