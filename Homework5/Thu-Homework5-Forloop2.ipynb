{
 "cells": [
  {
   "cell_type": "code",
   "execution_count": 1,
   "metadata": {},
   "outputs": [
    {
     "name": "stdout",
     "output_type": "stream",
     "text": [
      "Nhap n: 6\n",
      "Nhap mot so bat ki: 3\n",
      "Nhap mot so bat ki: 5\n",
      "Nhap mot so bat ki: 1\n",
      "Nhap mot so bat ki: 7\n",
      "Nhap mot so bat ki: 4\n",
      "Nhap mot so bat ki: 8\n",
      "Output: \n",
      "Max: 8 o vi tri 6\n",
      "Min: 0 o vi tri 0\n"
     ]
    }
   ],
   "source": [
    "# Bai 1: Xac dinh so nho nhat, lon nhat\n",
    "n = int(input('Nhap n: '))\n",
    "soLonNhat = 0\n",
    "indexMax = 0\n",
    "soNhoNhat = 0\n",
    "indexMin = 0\n",
    "for i in range(1, n+1):\n",
    "    a = int(input('Nhap mot so bat ki: '))\n",
    "    if soLonNhat <= a:\n",
    "        soLonNhat = a\n",
    "        indexMax = i\n",
    "    if soNhoNhat >= a:\n",
    "        soNhoNhat = a\n",
    "        indexMin = i\n",
    "        \n",
    "print('Output: ')\n",
    "print(f'Max: {soLonNhat} o vi tri {indexMax}')\n",
    "print(f'Min: {soNhoNhat} o vi tri {indexMin}')\n"
   ]
  },
  {
   "cell_type": "code",
   "execution_count": 2,
   "metadata": {},
   "outputs": [
    {
     "name": "stdout",
     "output_type": "stream",
     "text": [
      "Nhap n: 5\n",
      "Nhap mot so bat ki: 2\n",
      "Nhap mot so bat ki: 4\n",
      "Nhap mot so bat ki: 5\n",
      "Nhap mot so bat ki: 7\n",
      "Nhap mot so bat ki: 8\n",
      "Tong cac so le la: 5+7 = 12\n",
      "Tong cac so chan la: 2+4+8 = 14\n"
     ]
    }
   ],
   "source": [
    "# Bai 2: Tong cac so chan, le\n",
    "n = int(input('Nhap n: '))\n",
    "sumOdd = 0\n",
    "eqOdd = ''\n",
    "sumEven = 0\n",
    "eqEven = ''\n",
    "for i in range(1, n+1):\n",
    "    num = int(input('Nhap mot so bat ki: '))\n",
    "    if num % 2 == 0:\n",
    "        sumEven += num\n",
    "        eqEven +=  str(num) + '+'\n",
    "    if num % 2 == 1:\n",
    "        sumOdd += num\n",
    "        eqOdd +=  str(num) + '+'\n",
    "\n",
    "eqEven = eqEven[:-1] + ' = ' + str(sumEven)  \n",
    "eqOdd = eqOdd[:-1] + ' = ' + str(sumOdd)\n",
    "print(f'Tong cac so le la: {eqOdd}')\n",
    "print(f'Tong cac so chan la: {eqEven}')"
   ]
  }
 ],
 "metadata": {
  "kernelspec": {
   "display_name": "Python 3",
   "language": "python",
   "name": "python3"
  },
  "language_info": {
   "codemirror_mode": {
    "name": "ipython",
    "version": 3
   },
   "file_extension": ".py",
   "mimetype": "text/x-python",
   "name": "python",
   "nbconvert_exporter": "python",
   "pygments_lexer": "ipython3",
   "version": "3.8.3"
  }
 },
 "nbformat": 4,
 "nbformat_minor": 4
}
